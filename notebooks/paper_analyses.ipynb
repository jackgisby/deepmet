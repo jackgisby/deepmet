{
 "cells": [
  {
   "cell_type": "markdown",
   "source": [
    "# Paper Analyses\n",
    "\n",
    "Replication of the analyses in the paper: TBC"
   ],
   "metadata": {
    "collapsed": false
   }
  },
  {
   "cell_type": "code",
   "execution_count": 9,
   "outputs": [],
   "source": [
    "import os\n",
    "import sys\n",
    "\n",
    "sys.path.append(os.path.join(\"..\", \"..\", \"DeepMet\", \"src\"))\n",
    "from workflow.training import train_likeness_scorer\n",
    "from utils.feature_processing import get_fingerprints_from_meta\n"
   ],
   "metadata": {
    "collapsed": false,
    "pycharm": {
     "name": "#%%\n"
    }
   }
  },
  {
   "cell_type": "markdown",
   "source": [
    "Compounds were extracted from the HMDB and ZINC12 databases, subject to the following constraints:\n",
    "- Exact mass filter: 100Da < exact mass \\> 800Da\n",
    "- Other things\n",
    "\n",
    "The entire set of compounds passing these filters in HMDB were retained while a random sample of 20,000 compounds were taken from ZINC12. The smiles for these compounds are available in the `data/test_set` folder."
   ],
   "metadata": {
    "collapsed": false
   }
  },
  {
   "cell_type": "code",
   "execution_count": 10,
   "outputs": [],
   "source": [
    "data_path = \"../data/test_set/\"\n",
    "\n",
    "# Location of the \"normal\" and \"non-normal\" smiles\n",
    "normal_meta_path = os.path.join(data_path, \"hmdb_meta.csv\")\n",
    "non_normal_meta_path = os.path.join(data_path, \"zinc_meta.csv\")\n",
    "\n",
    "# Path to write results\n",
    "results_path = \"../paper_results\"\n",
    "\n",
    "if not os.path.exists(results_path):\n",
    "    os.mkdir(results_path)"
   ],
   "metadata": {
    "collapsed": false,
    "pycharm": {
     "name": "#%%\n"
    }
   }
  },
  {
   "cell_type": "markdown",
   "source": [
    "While smiles are provided in the data files, these are not used as input to the model.\n",
    "If not given to the `train_likeness_scorer` function, these will be converted to molecular\n",
    "fingerprints using the smiles given as input. For the sake of this vignette, we will calculate\n",
    "these in the following chunk.\n",
    "\n",
    "This is a particularly time-consuming step, so it is recommended to supply the pre-calculated fingerprint\n",
    "matrix for training."
   ],
   "metadata": {
    "collapsed": false
   }
  },
  {
   "cell_type": "code",
   "execution_count": 11,
   "outputs": [],
   "source": [
    "# normal_fingerprints_path = get_fingerprints_from_meta(normal_meta_path, os.path.join(results_path, \"normal_fingerprints.csv\"))\n",
    "# non_normal_fingerprints_path = get_fingerprints_from_meta(non_normal_meta_path, os.path.join(results_path, \"non_normal_fingerprints.csv\"))\n",
    "\n",
    "normal_fingerprints_path = os.path.join(results_path, \"normal_fingerprints.csv\")\n",
    "non_normal_fingerprints_path = os.path.join(results_path, \"non_normal_fingerprints.csv\")"
   ],
   "metadata": {
    "collapsed": false,
    "pycharm": {
     "name": "#%%\n"
    }
   }
  },
  {
   "cell_type": "markdown",
   "source": [
    "While we have now generated the molecular fingerprints, these include many poorly balanced and\n",
    "redundant features. The `train_likeness_scorer` function first calls `select_features` to greatly\n",
    "reduce the dimensionality of the inputs.\n",
    "\n",
    "Below, we re-train the model created in the paper."
   ],
   "metadata": {
    "collapsed": false
   }
  },
  {
   "cell_type": "code",
   "execution_count": null,
   "outputs": [
    {
     "name": "stderr",
     "output_type": "stream",
     "text": [
      "INFO:root:Log file is ../paper_results/log.txt.\n",
      "INFO:root:Export path is ../paper_results.\n",
      "INFO:root:Network: cocrystal_transformer\n",
      "INFO:root:The filtered normal fingerprint matrix path is ../paper_results\\normal_fingerprints_processed.csv.\n",
      "INFO:root:The filtered normal meta is ../data/test_set/hmdb_meta.csv.\n",
      "INFO:root:The filtered non-normal fingerprint matrix path is ../paper_results\\non_normal_fingerprints_processed.csv.\n",
      "INFO:root:The filtered non-normal meta is ../data/test_set/zinc_meta.csv.\n",
      "INFO:root:Deep SVDD objective: soft-boundary\n",
      "INFO:root:Nu-parameter: 0.10\n",
      "INFO:root:Computation device: cpu\n"
     ]
    }
   ],
   "source": [
    "# Train the model - feature selection is done within the function\n",
    "deep_met_model = train_likeness_scorer(\n",
    "    normal_meta_path=normal_meta_path,\n",
    "    results_path=results_path,\n",
    "    load_config=False,\n",
    "    non_normal_meta_path=non_normal_meta_path,\n",
    "    normal_fingerprints_path=normal_fingerprints_path,\n",
    "    non_normal_fingerprints_path=non_normal_fingerprints_path,\n",
    "    net_name=\"cocrystal_transformer\",\n",
    "    objective=\"soft-boundary\",\n",
    "    nu=0.1,\n",
    "    rep_dim=200,\n",
    "    device=\"cpu\",\n",
    "    seed=1,\n",
    "    optimizer_name=\"amsgrad\",\n",
    "    lr=0.000100095,\n",
    "    n_epochs=20,\n",
    "    lr_milestones=tuple(),\n",
    "    batch_size=2000,\n",
    "    weight_decay=1e-5,\n",
    "    pretrain=False,\n",
    "    validation_split=0.8,\n",
    "    test_split=0.9\n",
    ")"
   ],
   "metadata": {
    "collapsed": false,
    "pycharm": {
     "name": "#%%\n",
     "is_executing": true
    }
   }
  }
 ],
 "metadata": {
  "kernelspec": {
   "name": "pycharm-fac89138",
   "language": "python",
   "display_name": "PyCharm (DeepMet)"
  },
  "language_info": {
   "codemirror_mode": {
    "name": "ipython",
    "version": 2
   },
   "file_extension": ".py",
   "mimetype": "text/x-python",
   "name": "python",
   "nbconvert_exporter": "python",
   "pygments_lexer": "ipython2",
   "version": "2.7.6"
  }
 },
 "nbformat": 4,
 "nbformat_minor": 0
}